{
 "cells": [
  {
   "cell_type": "markdown",
   "id": "47086b59-21ee-428b-a27e-db5131982ef8",
   "metadata": {},
   "source": [
    "### Lesson 06 - Transfer Learning"
   ]
  },
  {
   "cell_type": "markdown",
   "id": "ff97f8b0-4b2d-4f09-8f4a-acf64f6e11ae",
   "metadata": {},
   "source": [
    "#### 1. Download Data, Unzip and Create Dataloader"
   ]
  },
  {
   "cell_type": "code",
   "execution_count": 6,
   "id": "863ecfa6-1320-4ae1-9b17-e1543324fb12",
   "metadata": {},
   "outputs": [],
   "source": [
    "# import libraries\n",
    "import os\n",
    "import torch\n",
    "import torch.nn as nn\n",
    "import torch.nn.functional as F\n",
    "from torchvision import models, datasets, transforms\n",
    "from torch.utils.data import DataLoader\n",
    "import numpy as np\n",
    "import pandas as pd\n",
    "import matplotlib.pyplot as plt\n",
    "%matplotlib inline\n",
    "plt.style.use('fivethirtyeight')\n",
    "import seaborn as sns\n",
    "from sklearn.metrics import confusion_matrix\n",
    "from tqdm import tqdm\n",
    "import urllib.request as req"
   ]
  },
  {
   "cell_type": "code",
   "execution_count": 7,
   "id": "ec55515a-cb54-469f-bb6e-c351927b517b",
   "metadata": {},
   "outputs": [],
   "source": [
    "# download data\n",
    "data_url = \"https://download.pytorch.org/tutorial/hymenoptera_data.zip\""
   ]
  },
  {
   "cell_type": "code",
   "execution_count": 8,
   "id": "eda6196c-20d6-4a30-a7a5-428399e22c42",
   "metadata": {},
   "outputs": [
    {
     "name": "stdout",
     "output_type": "stream",
     "text": [
      "hymenoptera_data directory created\n"
     ]
    }
   ],
   "source": [
    "# create a directory\n",
    "def create_dirs(dir_path):\n",
    "    os.makedirs(dir_path, exist_ok=True)\n",
    "    print(f\"{dir_path} directory created\")\n",
    "\n",
    "ROOT_DATA_DIR = \"hymenoptera_data\"\n",
    "\n",
    "create_dirs(ROOT_DATA_DIR)"
   ]
  },
  {
   "cell_type": "code",
   "execution_count": 10,
   "id": "de034ce5-96c6-4455-bb96-a7bfb105e493",
   "metadata": {},
   "outputs": [
    {
     "name": "stdout",
     "output_type": "stream",
     "text": [
      "downloading data\n",
      "filename: hymenoptera_data\\data.zip created with info \n",
      " Content-Type: application/zip\n",
      "Content-Length: 47286322\n",
      "Connection: close\n",
      "Last-Modified: Wed, 15 Mar 2017 18:46:00 GMT\n",
      "x-amz-version-id: null\n",
      "Accept-Ranges: bytes\n",
      "Server: AmazonS3\n",
      "Date: Wed, 24 Jan 2024 11:34:37 GMT\n",
      "ETag: \"5f8c32a6554f6acb4d649776e7735e48\"\n",
      "X-Cache: Hit from cloudfront\n",
      "Via: 1.1 f193db4ca15282854bb68270a34c2db2.cloudfront.net (CloudFront)\n",
      "X-Amz-Cf-Pop: BOM78-P4\n",
      "X-Amz-Cf-Id: kFjVP4wTVkx79fpZbVvBrXipWqwozASwRrj--k0ETL-nDLpFmxVVTw==\n",
      "Age: 52\n",
      "\n",
      "\n"
     ]
    }
   ],
   "source": [
    "# download data\n",
    "data_zip_file = \"data.zip\"\n",
    "data_zip_path = os.path.join(ROOT_DATA_DIR, data_zip_file)\n",
    "\n",
    "if not os.path.isfile(data_zip_file):\n",
    "    print(\"downloading data\")\n",
    "    filename, headers = req.urlretrieve(data_url, data_zip_path)\n",
    "    print(f\"filename: {filename} created with info \\n {headers}\")\n",
    "\n",
    "else:\n",
    "    print(\"file is already present\")"
   ]
  },
  {
   "cell_type": "code",
   "execution_count": 12,
   "id": "d9c98542-bc59-4b27-b97c-1d0ccae5d969",
   "metadata": {},
   "outputs": [],
   "source": [
    "# Unzip data\n",
    "from zipfile import ZipFile\n",
    "\n",
    "unzip_data_dirname = \"unzip_data_dir\"\n",
    "unzip_data_dir = os.path.join(ROOT_DATA_DIR, unzip_data_dirname)\n",
    "\n",
    "if not os.path.isfile(unzip_data_dir):\n",
    "    os.makedirs(unzip_data_dir, exist_ok=True)\n",
    "    with ZipFile(data_zip_path) as f:\n",
    "        f.extractall(unzip_data_dir)\n",
    "\n",
    "else:\n",
    "    print(f\"data already extracted\")"
   ]
  },
  {
   "cell_type": "code",
   "execution_count": 14,
   "id": "c5dbec38-7ca9-42f4-b596-e039c45f3e0b",
   "metadata": {},
   "outputs": [],
   "source": [
    "# create dataloaders\n",
    "from pathlib import Path"
   ]
  },
  {
   "cell_type": "code",
   "execution_count": 15,
   "id": "a0be9116-959c-46ba-a77f-be554a992cfa",
   "metadata": {},
   "outputs": [],
   "source": [
    "train_path = Path(\"hymenoptera_data/unzip_data_dir/hymenoptera_data/train\")\n",
    "test_path = Path(\"hymenoptera_data/unzip_data_dir/hymenoptera_data/val\")"
   ]
  },
  {
   "cell_type": "code",
   "execution_count": 16,
   "id": "0758863f-6148-4b77-9489-be195588bb6c",
   "metadata": {},
   "outputs": [],
   "source": [
    "img_size = (224, 224)"
   ]
  },
  {
   "cell_type": "code",
   "execution_count": 17,
   "id": "b467251f-a4c2-4ee8-a46b-64237cf89117",
   "metadata": {},
   "outputs": [],
   "source": [
    "mean = torch.tensor([0.5, 0.5, 0.5])\n",
    "std = torch.tensor([0.5, 0.5, 0.5])"
   ]
  },
  {
   "cell_type": "code",
   "execution_count": 18,
   "id": "630d7fb8-6941-44eb-b085-d49bb6d766d8",
   "metadata": {},
   "outputs": [],
   "source": [
    "# Transformations\n",
    "train_transforms = transforms.Compose([\n",
    "    transforms.Resize(img_size),\n",
    "    transforms.ToTensor(),\n",
    "    transforms.Normalize(mean, std)\n",
    "])\n",
    "\n",
    "test_transforms = transforms.Compose([\n",
    "    transforms.Resize(img_size),\n",
    "    transforms.ToTensor(),\n",
    "    transforms.Normalize(mean, std)\n",
    "])"
   ]
  },
  {
   "cell_type": "code",
   "execution_count": 19,
   "id": "82ce8cc4-6ec2-4244-82fc-43d1b98b1b01",
   "metadata": {},
   "outputs": [],
   "source": [
    "train_data = datasets.ImageFolder(root=train_path, transform=train_transforms)\n",
    "test_data = datasets.ImageFolder(root=train_path, transform=test_transforms)"
   ]
  },
  {
   "cell_type": "code",
   "execution_count": 21,
   "id": "08a896b0-5e51-4388-af77-b9255d133593",
   "metadata": {},
   "outputs": [
    {
     "data": {
      "text/plain": [
       "{'ants': 0, 'bees': 1}"
      ]
     },
     "execution_count": 21,
     "metadata": {},
     "output_type": "execute_result"
    }
   ],
   "source": [
    "train_data.class_to_idx"
   ]
  },
  {
   "cell_type": "code",
   "execution_count": 22,
   "id": "0872e508-eacb-421b-8a95-484975ebc915",
   "metadata": {},
   "outputs": [
    {
     "data": {
      "text/plain": [
       "{'ants': 0, 'bees': 1}"
      ]
     },
     "execution_count": 22,
     "metadata": {},
     "output_type": "execute_result"
    }
   ],
   "source": [
    "label_map = train_data.class_to_idx\n",
    "label_map"
   ]
  },
  {
   "cell_type": "code",
   "execution_count": 23,
   "id": "5c00b5e7-65a8-47b8-9770-31a68370623d",
   "metadata": {},
   "outputs": [
    {
     "data": {
      "text/plain": [
       "Dataset ImageFolder\n",
       "    Number of datapoints: 244\n",
       "    Root location: hymenoptera_data\\unzip_data_dir\\hymenoptera_data\\train\n",
       "    StandardTransform\n",
       "Transform: Compose(\n",
       "               Resize(size=(224, 224), interpolation=bilinear, max_size=None, antialias=warn)\n",
       "               ToTensor()\n",
       "               Normalize(mean=tensor([0.5000, 0.5000, 0.5000]), std=tensor([0.5000, 0.5000, 0.5000]))\n",
       "           )"
      ]
     },
     "execution_count": 23,
     "metadata": {},
     "output_type": "execute_result"
    }
   ],
   "source": [
    "train_data"
   ]
  },
  {
   "cell_type": "code",
   "execution_count": 24,
   "id": "51f2bd58-ecc6-49e7-ad46-fb05333e5eb3",
   "metadata": {},
   "outputs": [],
   "source": [
    "batch_size = 64\n",
    "\n",
    "train_loader = DataLoader(train_data, shuffle=True, batch_size=batch_size)\n",
    "test_loader = DataLoader(test_data, shuffle=True, batch_size=batch_size)"
   ]
  },
  {
   "cell_type": "code",
   "execution_count": 25,
   "id": "e5a2bbcb-221a-4787-9fd9-5470fcf37327",
   "metadata": {},
   "outputs": [],
   "source": [
    "data = next(iter(train_loader))"
   ]
  },
  {
   "cell_type": "code",
   "execution_count": 26,
   "id": "c1e36651-fee8-4f27-bff4-db32cb0fbdd2",
   "metadata": {},
   "outputs": [
    {
     "data": {
      "text/plain": [
       "2"
      ]
     },
     "execution_count": 26,
     "metadata": {},
     "output_type": "execute_result"
    }
   ],
   "source": [
    "len(data)"
   ]
  },
  {
   "cell_type": "code",
   "execution_count": 27,
   "id": "0c627689-8ed6-43d8-902c-b543ff5190f2",
   "metadata": {},
   "outputs": [],
   "source": [
    "images, labels = data"
   ]
  },
  {
   "cell_type": "code",
   "execution_count": 29,
   "id": "4a759d97-a37f-434a-9507-f050a31c6f1c",
   "metadata": {},
   "outputs": [
    {
     "data": {
      "text/plain": [
       "torch.Size([64, 3, 224, 224])"
      ]
     },
     "execution_count": 29,
     "metadata": {},
     "output_type": "execute_result"
    }
   ],
   "source": [
    "images.shape"
   ]
  },
  {
   "cell_type": "code",
   "execution_count": 30,
   "id": "0999aefc-3048-4916-a47d-2177c363ca0e",
   "metadata": {},
   "outputs": [
    {
     "data": {
      "text/plain": [
       "torch.Size([64])"
      ]
     },
     "execution_count": 30,
     "metadata": {},
     "output_type": "execute_result"
    }
   ],
   "source": [
    "labels.shape"
   ]
  },
  {
   "cell_type": "code",
   "execution_count": null,
   "id": "25762321-f640-46d9-a375-e224634ff016",
   "metadata": {},
   "outputs": [],
   "source": []
  }
 ],
 "metadata": {
  "kernelspec": {
   "display_name": "Python 3 (ipykernel)",
   "language": "python",
   "name": "python3"
  },
  "language_info": {
   "codemirror_mode": {
    "name": "ipython",
    "version": 3
   },
   "file_extension": ".py",
   "mimetype": "text/x-python",
   "name": "python",
   "nbconvert_exporter": "python",
   "pygments_lexer": "ipython3",
   "version": "3.11.7"
  }
 },
 "nbformat": 4,
 "nbformat_minor": 5
}
