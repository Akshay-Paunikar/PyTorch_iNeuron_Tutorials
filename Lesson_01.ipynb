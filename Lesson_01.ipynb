{
  "nbformat": 4,
  "nbformat_minor": 0,
  "metadata": {
    "colab": {
      "provenance": [],
      "gpuType": "T4"
    },
    "kernelspec": {
      "name": "python3",
      "display_name": "Python 3"
    },
    "language_info": {
      "name": "python"
    },
    "accelerator": "GPU"
  },
  "cells": [
    {
      "cell_type": "markdown",
      "source": [
        "### Tensors\n",
        "\n",
        "Tensors are a specialized data structure that are very similar to arrays and matrices. In PyTorch, we use tensors to encode the inputs and outputs of a model, as well as the model’s parameters.\n",
        "\n",
        "Tensors are similar to NumPy’s ndarrays, except that tensors can run on GPUs or other hardware accelerators. In fact, tensors and NumPy arrays can often share the same underlying memory, eliminating the need to copy data. Tensors are also optimized for automatic differentiation."
      ],
      "metadata": {
        "id": "TggWWMcb4iUD"
      }
    },
    {
      "cell_type": "code",
      "source": [
        "import torch\n",
        "import numpy as np"
      ],
      "metadata": {
        "id": "gFP5krT35CFB"
      },
      "execution_count": 3,
      "outputs": []
    },
    {
      "cell_type": "markdown",
      "source": [
        "### Initializing a Tensor\n",
        "\n",
        "Tensors can be initialized in various ways. Take a look at the following examples:\n",
        "\n",
        "<b> - Directly from data</b>\n",
        "\n",
        "Tensors can be created directly from data. The data type is automatically inferred."
      ],
      "metadata": {
        "id": "58WCe9Jx5S9X"
      }
    },
    {
      "cell_type": "code",
      "source": [
        "data = [[1,2], [3,4]]\n",
        "x = torch.tensor(data)"
      ],
      "metadata": {
        "id": "L-9WWXtn5GEZ"
      },
      "execution_count": 4,
      "outputs": []
    },
    {
      "cell_type": "code",
      "source": [
        "x"
      ],
      "metadata": {
        "colab": {
          "base_uri": "https://localhost:8080/"
        },
        "id": "qC7hJ-Uk5nyV",
        "outputId": "4ca61eec-0a87-4490-cc60-1ba8873b5906"
      },
      "execution_count": 5,
      "outputs": [
        {
          "output_type": "execute_result",
          "data": {
            "text/plain": [
              "tensor([[1, 2],\n",
              "        [3, 4]])"
            ]
          },
          "metadata": {},
          "execution_count": 5
        }
      ]
    },
    {
      "cell_type": "markdown",
      "source": [
        "<b>- From a NumPy array</b>\n",
        "\n",
        "Tensors can be created from NumPy arrays"
      ],
      "metadata": {
        "id": "90Y-Oj_a5tJj"
      }
    },
    {
      "cell_type": "code",
      "source": [
        "np_array = np.array(data)\n",
        "x_np = torch.from_numpy(np_array)"
      ],
      "metadata": {
        "id": "JRA3k2gE5oyG"
      },
      "execution_count": 6,
      "outputs": []
    },
    {
      "cell_type": "code",
      "source": [
        "x_np"
      ],
      "metadata": {
        "colab": {
          "base_uri": "https://localhost:8080/"
        },
        "id": "3H0vhZM96B1O",
        "outputId": "209eecf9-381a-49b7-f08f-3e30533cdab9"
      },
      "execution_count": 7,
      "outputs": [
        {
          "output_type": "execute_result",
          "data": {
            "text/plain": [
              "tensor([[1, 2],\n",
              "        [3, 4]])"
            ]
          },
          "metadata": {},
          "execution_count": 7
        }
      ]
    },
    {
      "cell_type": "markdown",
      "source": [
        "<b>- From another tensor:</b>\n",
        "\n",
        "The new tensor retains the properties (shape, datatype) of the argument tensor, unless explicitly overridden."
      ],
      "metadata": {
        "id": "aVCDqkpp6Tp6"
      }
    },
    {
      "cell_type": "code",
      "source": [
        "x_ones = torch.ones_like(x) # retains the properties of x\n",
        "print(f\"Ones Tensor:\\n\", {x_ones})"
      ],
      "metadata": {
        "colab": {
          "base_uri": "https://localhost:8080/"
        },
        "id": "UBznDFlf6DUF",
        "outputId": "b5210df6-7b98-459c-ccf4-564057917f2e"
      },
      "execution_count": 8,
      "outputs": [
        {
          "output_type": "stream",
          "name": "stdout",
          "text": [
            "Ones Tensor:\n",
            " {tensor([[1, 1],\n",
            "        [1, 1]])}\n"
          ]
        }
      ]
    },
    {
      "cell_type": "code",
      "source": [
        "x_zeroes = torch.zeros_like(x) # retains the properties of x\n",
        "print(f\"Zeroes Tensor:\\n\", {x_zeroes})"
      ],
      "metadata": {
        "colab": {
          "base_uri": "https://localhost:8080/"
        },
        "id": "vdkqx1aE7S3V",
        "outputId": "14b51984-7abb-4d54-cc89-47f21d6f804e"
      },
      "execution_count": 9,
      "outputs": [
        {
          "output_type": "stream",
          "name": "stdout",
          "text": [
            "Zeroes Tensor:\n",
            " {tensor([[0, 0],\n",
            "        [0, 0]])}\n"
          ]
        }
      ]
    },
    {
      "cell_type": "code",
      "source": [
        "x_rand = torch.rand_like(x, dtype=torch.float) # overrides the datatype of x_data\n",
        "print(f\"Random Tensor:\\n\", {x_rand})"
      ],
      "metadata": {
        "colab": {
          "base_uri": "https://localhost:8080/"
        },
        "id": "7-MLlXTF6vkR",
        "outputId": "2b82d6b8-1179-4088-db3c-1fd4c853f6ca"
      },
      "execution_count": 10,
      "outputs": [
        {
          "output_type": "stream",
          "name": "stdout",
          "text": [
            "Random Tensor:\n",
            " {tensor([[0.8794, 0.6617],\n",
            "        [0.3289, 0.3907]])}\n"
          ]
        }
      ]
    },
    {
      "cell_type": "markdown",
      "source": [
        "<b>- With random or constant values:</b>\n",
        "\n",
        "shape is a tuple of tensor dimensions. In the functions below, it determines the dimensionality of the output tensor."
      ],
      "metadata": {
        "id": "VGnBxzE37uD8"
      }
    },
    {
      "cell_type": "code",
      "source": [
        "shape = (2,3,)\n",
        "rand_tensor = torch.rand(shape)\n",
        "ones_tensor = torch.ones(shape)\n",
        "zeroes_tensor = torch.zeros(shape)\n",
        "\n",
        "print(f\"Random Tensor:\\n\", {rand_tensor})\n",
        "print(f\"Ones Tensor:\\n\", {ones_tensor})\n",
        "print(f\"Zeroes Tensor:\\n\", {zeroes_tensor})"
      ],
      "metadata": {
        "colab": {
          "base_uri": "https://localhost:8080/"
        },
        "id": "06Pvg0z67Mft",
        "outputId": "a5e902d3-307a-4afa-8b76-38dd8e09a1e8"
      },
      "execution_count": 11,
      "outputs": [
        {
          "output_type": "stream",
          "name": "stdout",
          "text": [
            "Random Tensor:\n",
            " {tensor([[0.0221, 0.8269, 0.2179],\n",
            "        [0.1134, 0.9804, 0.4494]])}\n",
            "Ones Tensor:\n",
            " {tensor([[1., 1., 1.],\n",
            "        [1., 1., 1.]])}\n",
            "Zeroes Tensor:\n",
            " {tensor([[0., 0., 0.],\n",
            "        [0., 0., 0.]])}\n"
          ]
        }
      ]
    },
    {
      "cell_type": "markdown",
      "source": [
        "### Attributes of a Tensor\n",
        "\n",
        "Tensor attributes describe their shape, datatype, and the device on which they are stored."
      ],
      "metadata": {
        "id": "ntpIfhNt86bX"
      }
    },
    {
      "cell_type": "code",
      "source": [
        "tensor = torch.rand(3,4)\n",
        "\n",
        "print(f\"Shape of the Tensor:\", {tensor.shape})\n",
        "print(f\"Datatype of the Tensor:\", {tensor.dtype})\n",
        "print(f\"Device Tensor is stored on:\", {tensor.device})"
      ],
      "metadata": {
        "colab": {
          "base_uri": "https://localhost:8080/"
        },
        "id": "lVErEfWK8XUH",
        "outputId": "55584d54-0ecf-4798-9192-715968425597"
      },
      "execution_count": 13,
      "outputs": [
        {
          "output_type": "stream",
          "name": "stdout",
          "text": [
            "Shape of the Tensor: {torch.Size([3, 4])}\n",
            "Datatype of the Tensor: {torch.float32}\n",
            "Device Tensor is stored on: {device(type='cpu')}\n"
          ]
        }
      ]
    },
    {
      "cell_type": "markdown",
      "source": [
        "### Operations on Tensors\n",
        "\n",
        "Over 100 tensor operations, including arithmetic, linear algebra, matrix manipulation (transposing, indexing, slicing), sampling and more are comprehensively described here: https://pytorch.org/docs/stable/torch.html\n",
        "\n",
        "Each of these operations can be run on the GPU (at typically higher speeds than on a CPU). If you’re using Colab, allocate a GPU by going to Runtime > Change runtime type > GPU.\n",
        "\n",
        "By default, tensors are created on the CPU. We need to explicitly move tensors to the GPU using .to method (after checking for GPU availability). Keep in mind that copying large tensors across devices can be expensive in terms of time and memory!"
      ],
      "metadata": {
        "id": "2wbl4vaM-rJB"
      }
    },
    {
      "cell_type": "code",
      "source": [
        "# We move our tensor to the GPU if available\n",
        "if torch.cuda.is_available():\n",
        "    tensor = tensor.to(\"cuda\")"
      ],
      "metadata": {
        "id": "vpg0jjSz9W_j"
      },
      "execution_count": 14,
      "outputs": []
    },
    {
      "cell_type": "markdown",
      "source": [
        "<b>Standard numpy-like indexing and slicing:</b>"
      ],
      "metadata": {
        "id": "JiFA7k13-5-o"
      }
    },
    {
      "cell_type": "code",
      "source": [
        "tensor = torch.rand(4,4)\n",
        "tensor"
      ],
      "metadata": {
        "colab": {
          "base_uri": "https://localhost:8080/"
        },
        "id": "C4Lhcho7-14G",
        "outputId": "57edff89-5bbb-4d7d-e782-1a97c18e5c32"
      },
      "execution_count": 23,
      "outputs": [
        {
          "output_type": "execute_result",
          "data": {
            "text/plain": [
              "tensor([[0.3615, 0.0318, 0.1010, 0.0969],\n",
              "        [0.3229, 0.2077, 0.3341, 0.4077],\n",
              "        [0.3685, 0.2071, 0.4613, 0.2685],\n",
              "        [0.6311, 0.0321, 0.9253, 0.9157]])"
            ]
          },
          "metadata": {},
          "execution_count": 23
        }
      ]
    },
    {
      "cell_type": "code",
      "source": [
        "print(f\"First Row:\\n\", {tensor[0]})"
      ],
      "metadata": {
        "colab": {
          "base_uri": "https://localhost:8080/"
        },
        "id": "gIsNgj-K_EEL",
        "outputId": "c5072946-ca13-4d4f-c32c-db2105347ddf"
      },
      "execution_count": 24,
      "outputs": [
        {
          "output_type": "stream",
          "name": "stdout",
          "text": [
            "First Row:\n",
            " {tensor([0.3615, 0.0318, 0.1010, 0.0969])}\n"
          ]
        }
      ]
    },
    {
      "cell_type": "code",
      "source": [
        "print(f\"First Column:\\n\", {tensor[:,0]})"
      ],
      "metadata": {
        "colab": {
          "base_uri": "https://localhost:8080/"
        },
        "id": "fQqJC7c5_MMJ",
        "outputId": "cfc484aa-06dd-4a68-b555-506260de7dbc"
      },
      "execution_count": 25,
      "outputs": [
        {
          "output_type": "stream",
          "name": "stdout",
          "text": [
            "First Column:\n",
            " {tensor([0.3615, 0.3229, 0.3685, 0.6311])}\n"
          ]
        }
      ]
    },
    {
      "cell_type": "code",
      "source": [
        "print(f\"Last Column:\\n\", {tensor[:,-1]})"
      ],
      "metadata": {
        "colab": {
          "base_uri": "https://localhost:8080/"
        },
        "id": "X8Z09-_3_pCr",
        "outputId": "80e7a170-7788-40ae-f23a-5d5bdb10dd70"
      },
      "execution_count": 26,
      "outputs": [
        {
          "output_type": "stream",
          "name": "stdout",
          "text": [
            "Last Column:\n",
            " {tensor([0.0969, 0.4077, 0.2685, 0.9157])}\n"
          ]
        }
      ]
    },
    {
      "cell_type": "code",
      "source": [
        "# we can also change a row or column data using below operation\n",
        "tensor[:,1] = 0\n",
        "tensor"
      ],
      "metadata": {
        "colab": {
          "base_uri": "https://localhost:8080/"
        },
        "id": "2fAFWY5h_xxF",
        "outputId": "2a3337a8-d4a4-463e-abfe-f7a92550391a"
      },
      "execution_count": 27,
      "outputs": [
        {
          "output_type": "execute_result",
          "data": {
            "text/plain": [
              "tensor([[0.3615, 0.0000, 0.1010, 0.0969],\n",
              "        [0.3229, 0.0000, 0.3341, 0.4077],\n",
              "        [0.3685, 0.0000, 0.4613, 0.2685],\n",
              "        [0.6311, 0.0000, 0.9253, 0.9157]])"
            ]
          },
          "metadata": {},
          "execution_count": 27
        }
      ]
    },
    {
      "cell_type": "markdown",
      "source": [
        "### Joining tensors:\n",
        "\n",
        " You can use torch.cat to concatenate a sequence of tensors along a given dimension. See also torch.stack, another tensor joining operator that is subtly different from torch.cat."
      ],
      "metadata": {
        "id": "dft04FKdAujI"
      }
    },
    {
      "cell_type": "code",
      "source": [
        "t1 = torch.cat([tensor, tensor, tensor], dim=0) # stack vertically\n",
        "t1"
      ],
      "metadata": {
        "colab": {
          "base_uri": "https://localhost:8080/"
        },
        "id": "TzQ57pgBAanK",
        "outputId": "07d5f658-5e1b-4299-8e35-9210f2480121"
      },
      "execution_count": 28,
      "outputs": [
        {
          "output_type": "execute_result",
          "data": {
            "text/plain": [
              "tensor([[0.3615, 0.0000, 0.1010, 0.0969],\n",
              "        [0.3229, 0.0000, 0.3341, 0.4077],\n",
              "        [0.3685, 0.0000, 0.4613, 0.2685],\n",
              "        [0.6311, 0.0000, 0.9253, 0.9157],\n",
              "        [0.3615, 0.0000, 0.1010, 0.0969],\n",
              "        [0.3229, 0.0000, 0.3341, 0.4077],\n",
              "        [0.3685, 0.0000, 0.4613, 0.2685],\n",
              "        [0.6311, 0.0000, 0.9253, 0.9157],\n",
              "        [0.3615, 0.0000, 0.1010, 0.0969],\n",
              "        [0.3229, 0.0000, 0.3341, 0.4077],\n",
              "        [0.3685, 0.0000, 0.4613, 0.2685],\n",
              "        [0.6311, 0.0000, 0.9253, 0.9157]])"
            ]
          },
          "metadata": {},
          "execution_count": 28
        }
      ]
    },
    {
      "cell_type": "code",
      "source": [
        "t2 = torch.cat([ones_tensor, ones_tensor, ones_tensor], dim=1) # stack horizontally\n",
        "t2"
      ],
      "metadata": {
        "colab": {
          "base_uri": "https://localhost:8080/"
        },
        "id": "NVcvY8aNBBoB",
        "outputId": "c1a40f67-4258-4e19-f995-8835b3226508"
      },
      "execution_count": 30,
      "outputs": [
        {
          "output_type": "execute_result",
          "data": {
            "text/plain": [
              "tensor([[1., 1., 1., 1., 1., 1., 1., 1., 1.],\n",
              "        [1., 1., 1., 1., 1., 1., 1., 1., 1.]])"
            ]
          },
          "metadata": {},
          "execution_count": 30
        }
      ]
    },
    {
      "cell_type": "code",
      "source": [],
      "metadata": {
        "id": "8GQC5ARiBPaU"
      },
      "execution_count": null,
      "outputs": []
    }
  ]
}