{
  "nbformat": 4,
  "nbformat_minor": 0,
  "metadata": {
    "colab": {
      "provenance": [],
      "gpuType": "T4"
    },
    "kernelspec": {
      "name": "python3",
      "display_name": "Python 3"
    },
    "language_info": {
      "name": "python"
    },
    "accelerator": "GPU"
  },
  "cells": [
    {
      "cell_type": "markdown",
      "source": [
        "### Tensors\n",
        "\n",
        "Tensors are a specialized data structure that are very similar to arrays and matrices. In PyTorch, we use tensors to encode the inputs and outputs of a model, as well as the model’s parameters.\n",
        "\n",
        "Tensors are similar to NumPy’s ndarrays, except that tensors can run on GPUs or other hardware accelerators. In fact, tensors and NumPy arrays can often share the same underlying memory, eliminating the need to copy data. Tensors are also optimized for automatic differentiation."
      ],
      "metadata": {
        "id": "TggWWMcb4iUD"
      }
    },
    {
      "cell_type": "code",
      "source": [
        "import torch\n",
        "import numpy as np"
      ],
      "metadata": {
        "id": "gFP5krT35CFB"
      },
      "execution_count": 67,
      "outputs": []
    },
    {
      "cell_type": "markdown",
      "source": [
        "### Initializing a Tensor\n",
        "\n",
        "Tensors can be initialized in various ways. Take a look at the following examples:\n",
        "\n",
        "<b> - Directly from data</b>\n",
        "\n",
        "Tensors can be created directly from data. The data type is automatically inferred."
      ],
      "metadata": {
        "id": "58WCe9Jx5S9X"
      }
    },
    {
      "cell_type": "code",
      "source": [
        "data = [[1,2], [3,4]]\n",
        "x = torch.tensor(data)"
      ],
      "metadata": {
        "id": "L-9WWXtn5GEZ"
      },
      "execution_count": 68,
      "outputs": []
    },
    {
      "cell_type": "code",
      "source": [
        "x"
      ],
      "metadata": {
        "colab": {
          "base_uri": "https://localhost:8080/"
        },
        "id": "qC7hJ-Uk5nyV",
        "outputId": "ab3c1111-bead-414d-ace1-2931d095a705"
      },
      "execution_count": 69,
      "outputs": [
        {
          "output_type": "execute_result",
          "data": {
            "text/plain": [
              "tensor([[1, 2],\n",
              "        [3, 4]])"
            ]
          },
          "metadata": {},
          "execution_count": 69
        }
      ]
    },
    {
      "cell_type": "markdown",
      "source": [
        "<b>- From a NumPy array</b>\n",
        "\n",
        "Tensors can be created from NumPy arrays"
      ],
      "metadata": {
        "id": "90Y-Oj_a5tJj"
      }
    },
    {
      "cell_type": "code",
      "source": [
        "np_array = np.array(data)\n",
        "x_np = torch.from_numpy(np_array)"
      ],
      "metadata": {
        "id": "JRA3k2gE5oyG"
      },
      "execution_count": 70,
      "outputs": []
    },
    {
      "cell_type": "code",
      "source": [
        "x_np"
      ],
      "metadata": {
        "colab": {
          "base_uri": "https://localhost:8080/"
        },
        "id": "3H0vhZM96B1O",
        "outputId": "c4be0ffa-1013-46de-cf5f-3e79fb5440af"
      },
      "execution_count": 71,
      "outputs": [
        {
          "output_type": "execute_result",
          "data": {
            "text/plain": [
              "tensor([[1, 2],\n",
              "        [3, 4]])"
            ]
          },
          "metadata": {},
          "execution_count": 71
        }
      ]
    },
    {
      "cell_type": "markdown",
      "source": [
        "<b>- From another tensor:</b>\n",
        "\n",
        "The new tensor retains the properties (shape, datatype) of the argument tensor, unless explicitly overridden."
      ],
      "metadata": {
        "id": "aVCDqkpp6Tp6"
      }
    },
    {
      "cell_type": "code",
      "source": [
        "x_ones = torch.ones_like(x) # retains the properties of x\n",
        "print(f\"Ones Tensor:\\n {x_ones}\")"
      ],
      "metadata": {
        "colab": {
          "base_uri": "https://localhost:8080/"
        },
        "id": "UBznDFlf6DUF",
        "outputId": "7c0b8f62-9706-4d1b-8ad8-ce45866dbaff"
      },
      "execution_count": 72,
      "outputs": [
        {
          "output_type": "stream",
          "name": "stdout",
          "text": [
            "Ones Tensor:\n",
            " tensor([[1, 1],\n",
            "        [1, 1]])\n"
          ]
        }
      ]
    },
    {
      "cell_type": "code",
      "source": [
        "x_zeroes = torch.zeros_like(x) # retains the properties of x\n",
        "print(f\"Zeroes Tensor:\\n {x_zeroes}\")"
      ],
      "metadata": {
        "colab": {
          "base_uri": "https://localhost:8080/"
        },
        "id": "vdkqx1aE7S3V",
        "outputId": "24c8b6de-5357-433b-d8a1-819c771c812b"
      },
      "execution_count": 73,
      "outputs": [
        {
          "output_type": "stream",
          "name": "stdout",
          "text": [
            "Zeroes Tensor:\n",
            " tensor([[0, 0],\n",
            "        [0, 0]])\n"
          ]
        }
      ]
    },
    {
      "cell_type": "code",
      "source": [
        "x_rand = torch.rand_like(x, dtype=torch.float) # overrides the datatype of x_data\n",
        "print(f\"Random Tensor:\\n {x_rand}\")"
      ],
      "metadata": {
        "colab": {
          "base_uri": "https://localhost:8080/"
        },
        "id": "7-MLlXTF6vkR",
        "outputId": "c004053b-254f-4b18-9d6f-bede092cfa68"
      },
      "execution_count": 74,
      "outputs": [
        {
          "output_type": "stream",
          "name": "stdout",
          "text": [
            "Random Tensor:\n",
            " tensor([[0.2451, 0.9213],\n",
            "        [0.3883, 0.1511]])\n"
          ]
        }
      ]
    },
    {
      "cell_type": "markdown",
      "source": [
        "<b>- With random or constant values:</b>\n",
        "\n",
        "shape is a tuple of tensor dimensions. In the functions below, it determines the dimensionality of the output tensor."
      ],
      "metadata": {
        "id": "VGnBxzE37uD8"
      }
    },
    {
      "cell_type": "code",
      "source": [
        "shape = (2,3,)\n",
        "rand_tensor = torch.rand(shape)\n",
        "ones_tensor = torch.ones(shape)\n",
        "zeroes_tensor = torch.zeros(shape)\n",
        "\n",
        "print(f\"Random Tensor:\\n {rand_tensor}\")\n",
        "print(f\"Ones Tensor:\\n {ones_tensor}\")\n",
        "print(f\"Zeroes Tensor:\\n {zeroes_tensor}\")"
      ],
      "metadata": {
        "colab": {
          "base_uri": "https://localhost:8080/"
        },
        "id": "06Pvg0z67Mft",
        "outputId": "0592c6b6-7894-4138-8ce3-797fcb11f1f5"
      },
      "execution_count": 75,
      "outputs": [
        {
          "output_type": "stream",
          "name": "stdout",
          "text": [
            "Random Tensor:\n",
            " tensor([[0.7450, 0.9209, 0.6663],\n",
            "        [0.8294, 0.1131, 0.5118]])\n",
            "Ones Tensor:\n",
            " tensor([[1., 1., 1.],\n",
            "        [1., 1., 1.]])\n",
            "Zeroes Tensor:\n",
            " tensor([[0., 0., 0.],\n",
            "        [0., 0., 0.]])\n"
          ]
        }
      ]
    },
    {
      "cell_type": "markdown",
      "source": [
        "### Attributes of a Tensor\n",
        "\n",
        "Tensor attributes describe their shape, datatype, and the device on which they are stored."
      ],
      "metadata": {
        "id": "ntpIfhNt86bX"
      }
    },
    {
      "cell_type": "code",
      "source": [
        "tensor = torch.rand(3,4)\n",
        "\n",
        "print(f\"Shape of the Tensor: {tensor.shape}\")\n",
        "print(f\"Datatype of the Tensor: {tensor.dtype}\")\n",
        "print(f\"Device Tensor is stored on: {tensor.device}\")"
      ],
      "metadata": {
        "colab": {
          "base_uri": "https://localhost:8080/"
        },
        "id": "lVErEfWK8XUH",
        "outputId": "8f3224f8-8ae7-42a7-e316-520a477c9eb0"
      },
      "execution_count": 76,
      "outputs": [
        {
          "output_type": "stream",
          "name": "stdout",
          "text": [
            "Shape of the Tensor: torch.Size([3, 4])\n",
            "Datatype of the Tensor: torch.float32\n",
            "Device Tensor is stored on: cpu\n"
          ]
        }
      ]
    },
    {
      "cell_type": "markdown",
      "source": [
        "### Operations on Tensors\n",
        "\n",
        "Over 100 tensor operations, including arithmetic, linear algebra, matrix manipulation (transposing, indexing, slicing), sampling and more are comprehensively described here: https://pytorch.org/docs/stable/torch.html\n",
        "\n",
        "Each of these operations can be run on the GPU (at typically higher speeds than on a CPU). If you’re using Colab, allocate a GPU by going to Runtime > Change runtime type > GPU.\n",
        "\n",
        "By default, tensors are created on the CPU. We need to explicitly move tensors to the GPU using .to method (after checking for GPU availability). Keep in mind that copying large tensors across devices can be expensive in terms of time and memory!"
      ],
      "metadata": {
        "id": "2wbl4vaM-rJB"
      }
    },
    {
      "cell_type": "code",
      "source": [
        "# We move our tensor to the GPU if available\n",
        "if torch.cuda.is_available():\n",
        "    tensor = tensor.to(\"cuda\")"
      ],
      "metadata": {
        "id": "vpg0jjSz9W_j"
      },
      "execution_count": 77,
      "outputs": []
    },
    {
      "cell_type": "markdown",
      "source": [
        "<b>Standard numpy-like indexing and slicing:</b>"
      ],
      "metadata": {
        "id": "JiFA7k13-5-o"
      }
    },
    {
      "cell_type": "code",
      "source": [
        "tensor = torch.rand(4,4)\n",
        "tensor"
      ],
      "metadata": {
        "colab": {
          "base_uri": "https://localhost:8080/"
        },
        "id": "C4Lhcho7-14G",
        "outputId": "87601e03-2301-4fc0-afba-bc7d7dc1e50d"
      },
      "execution_count": 78,
      "outputs": [
        {
          "output_type": "execute_result",
          "data": {
            "text/plain": [
              "tensor([[0.0521, 0.6583, 0.5164, 0.4201],\n",
              "        [0.7206, 0.6321, 0.0590, 0.1817],\n",
              "        [0.2112, 0.9927, 0.2480, 0.3550],\n",
              "        [0.8818, 0.6451, 0.8547, 0.5782]])"
            ]
          },
          "metadata": {},
          "execution_count": 78
        }
      ]
    },
    {
      "cell_type": "code",
      "source": [
        "print(f\"First Row:\\n {tensor[0]}\")"
      ],
      "metadata": {
        "colab": {
          "base_uri": "https://localhost:8080/"
        },
        "id": "gIsNgj-K_EEL",
        "outputId": "6b3b0797-d59b-4e93-a0e0-917c788db307"
      },
      "execution_count": 79,
      "outputs": [
        {
          "output_type": "stream",
          "name": "stdout",
          "text": [
            "First Row:\n",
            " tensor([0.0521, 0.6583, 0.5164, 0.4201])\n"
          ]
        }
      ]
    },
    {
      "cell_type": "code",
      "source": [
        "print(f\"First Column:\\n {tensor[:,0]}\")"
      ],
      "metadata": {
        "colab": {
          "base_uri": "https://localhost:8080/"
        },
        "id": "fQqJC7c5_MMJ",
        "outputId": "d6c57826-fb9f-4804-e610-a1db83e3a0e0"
      },
      "execution_count": 80,
      "outputs": [
        {
          "output_type": "stream",
          "name": "stdout",
          "text": [
            "First Column:\n",
            " tensor([0.0521, 0.7206, 0.2112, 0.8818])\n"
          ]
        }
      ]
    },
    {
      "cell_type": "code",
      "source": [
        "print(f\"Last Column:\\n {tensor[:,-1]}\")"
      ],
      "metadata": {
        "colab": {
          "base_uri": "https://localhost:8080/"
        },
        "id": "X8Z09-_3_pCr",
        "outputId": "74dcb26c-8cb9-4a77-eb12-94fb8097bc9c"
      },
      "execution_count": 81,
      "outputs": [
        {
          "output_type": "stream",
          "name": "stdout",
          "text": [
            "Last Column:\n",
            " tensor([0.4201, 0.1817, 0.3550, 0.5782])\n"
          ]
        }
      ]
    },
    {
      "cell_type": "code",
      "source": [
        "# we can also change a row or column data using below operation\n",
        "tensor[:,1] = 0\n",
        "tensor"
      ],
      "metadata": {
        "colab": {
          "base_uri": "https://localhost:8080/"
        },
        "id": "2fAFWY5h_xxF",
        "outputId": "c09d9d3c-5c64-43cd-eaab-fcb2606f5362"
      },
      "execution_count": 82,
      "outputs": [
        {
          "output_type": "execute_result",
          "data": {
            "text/plain": [
              "tensor([[0.0521, 0.0000, 0.5164, 0.4201],\n",
              "        [0.7206, 0.0000, 0.0590, 0.1817],\n",
              "        [0.2112, 0.0000, 0.2480, 0.3550],\n",
              "        [0.8818, 0.0000, 0.8547, 0.5782]])"
            ]
          },
          "metadata": {},
          "execution_count": 82
        }
      ]
    },
    {
      "cell_type": "markdown",
      "source": [
        "### Joining tensors:\n",
        "\n",
        " You can use torch.cat to concatenate a sequence of tensors along a given dimension. See also torch.stack, another tensor joining operator that is subtly different from torch.cat."
      ],
      "metadata": {
        "id": "dft04FKdAujI"
      }
    },
    {
      "cell_type": "code",
      "source": [
        "t1 = torch.cat([tensor, tensor, tensor], dim=0) # stack vertically\n",
        "t1"
      ],
      "metadata": {
        "colab": {
          "base_uri": "https://localhost:8080/"
        },
        "id": "TzQ57pgBAanK",
        "outputId": "d7b5f986-f8d8-4870-de06-6ffe02cc87e8"
      },
      "execution_count": 83,
      "outputs": [
        {
          "output_type": "execute_result",
          "data": {
            "text/plain": [
              "tensor([[0.0521, 0.0000, 0.5164, 0.4201],\n",
              "        [0.7206, 0.0000, 0.0590, 0.1817],\n",
              "        [0.2112, 0.0000, 0.2480, 0.3550],\n",
              "        [0.8818, 0.0000, 0.8547, 0.5782],\n",
              "        [0.0521, 0.0000, 0.5164, 0.4201],\n",
              "        [0.7206, 0.0000, 0.0590, 0.1817],\n",
              "        [0.2112, 0.0000, 0.2480, 0.3550],\n",
              "        [0.8818, 0.0000, 0.8547, 0.5782],\n",
              "        [0.0521, 0.0000, 0.5164, 0.4201],\n",
              "        [0.7206, 0.0000, 0.0590, 0.1817],\n",
              "        [0.2112, 0.0000, 0.2480, 0.3550],\n",
              "        [0.8818, 0.0000, 0.8547, 0.5782]])"
            ]
          },
          "metadata": {},
          "execution_count": 83
        }
      ]
    },
    {
      "cell_type": "code",
      "source": [
        "t2 = torch.cat([ones_tensor, ones_tensor, ones_tensor], dim=1) # stack horizontally\n",
        "t2"
      ],
      "metadata": {
        "colab": {
          "base_uri": "https://localhost:8080/"
        },
        "id": "NVcvY8aNBBoB",
        "outputId": "a09e9895-b966-404a-c680-ebef507fcbae"
      },
      "execution_count": 84,
      "outputs": [
        {
          "output_type": "execute_result",
          "data": {
            "text/plain": [
              "tensor([[1., 1., 1., 1., 1., 1., 1., 1., 1.],\n",
              "        [1., 1., 1., 1., 1., 1., 1., 1., 1.]])"
            ]
          },
          "metadata": {},
          "execution_count": 84
        }
      ]
    },
    {
      "cell_type": "markdown",
      "source": [
        "### Tensor Operations\n",
        "\n",
        "Tensor operations are mathematical operations that can be performed on tensors to manipulate and transform their values. PyTorch provides a wide range of tensor operations that can be used to perform basic operations like arithmetic, statistical, and logical operations on tensors."
      ],
      "metadata": {
        "id": "_MOBWtWXDS2J"
      }
    },
    {
      "cell_type": "code",
      "source": [
        "# create a 2d tensor\n",
        "tensor = torch.ones(2,4)\n",
        "tensor"
      ],
      "metadata": {
        "colab": {
          "base_uri": "https://localhost:8080/"
        },
        "id": "8GQC5ARiBPaU",
        "outputId": "fb5e5a0e-6fa2-4fa5-8dad-dc17592b6789"
      },
      "execution_count": 85,
      "outputs": [
        {
          "output_type": "execute_result",
          "data": {
            "text/plain": [
              "tensor([[1., 1., 1., 1.],\n",
              "        [1., 1., 1., 1.]])"
            ]
          },
          "metadata": {},
          "execution_count": 85
        }
      ]
    },
    {
      "cell_type": "markdown",
      "source": [
        "<b> - Addition</b>\n",
        "\n",
        "Tensor addition can be performed using the torch.add() function or the + operator."
      ],
      "metadata": {
        "id": "QCIQncNzENrn"
      }
    },
    {
      "cell_type": "code",
      "source": [
        "a = torch.add(tensor,5)\n",
        "a"
      ],
      "metadata": {
        "colab": {
          "base_uri": "https://localhost:8080/"
        },
        "id": "KOVdJHxHDoop",
        "outputId": "f3647daa-c01b-408f-e436-fe7c10a6f38f"
      },
      "execution_count": 86,
      "outputs": [
        {
          "output_type": "execute_result",
          "data": {
            "text/plain": [
              "tensor([[6., 6., 6., 6.],\n",
              "        [6., 6., 6., 6.]])"
            ]
          },
          "metadata": {},
          "execution_count": 86
        }
      ]
    },
    {
      "cell_type": "code",
      "source": [
        "a = tensor + 5\n",
        "a"
      ],
      "metadata": {
        "colab": {
          "base_uri": "https://localhost:8080/"
        },
        "id": "Z_MNp8tqFDpN",
        "outputId": "50070517-dbef-40fe-ac5c-b8254405ec9f"
      },
      "execution_count": 87,
      "outputs": [
        {
          "output_type": "execute_result",
          "data": {
            "text/plain": [
              "tensor([[6., 6., 6., 6.],\n",
              "        [6., 6., 6., 6.]])"
            ]
          },
          "metadata": {},
          "execution_count": 87
        }
      ]
    },
    {
      "cell_type": "markdown",
      "source": [
        "<b> - Subtraction</b>\n",
        "\n",
        "Tensor subtraction can be performed using the torch.sub() function or the - operator."
      ],
      "metadata": {
        "id": "_u3MCZGVEgga"
      }
    },
    {
      "cell_type": "code",
      "source": [
        "b = torch.sub(a,1)\n",
        "b"
      ],
      "metadata": {
        "colab": {
          "base_uri": "https://localhost:8080/"
        },
        "id": "rBVLEQ1XEckO",
        "outputId": "8e63ccd2-2eca-4f21-f52e-b88f442c66ce"
      },
      "execution_count": 88,
      "outputs": [
        {
          "output_type": "execute_result",
          "data": {
            "text/plain": [
              "tensor([[5., 5., 5., 5.],\n",
              "        [5., 5., 5., 5.]])"
            ]
          },
          "metadata": {},
          "execution_count": 88
        }
      ]
    },
    {
      "cell_type": "code",
      "source": [
        "b = a-1\n",
        "b"
      ],
      "metadata": {
        "colab": {
          "base_uri": "https://localhost:8080/"
        },
        "id": "QARCVNsWE_Rn",
        "outputId": "b7e727b0-cfc5-4ab9-f721-c79ed0a92e3b"
      },
      "execution_count": 89,
      "outputs": [
        {
          "output_type": "execute_result",
          "data": {
            "text/plain": [
              "tensor([[5., 5., 5., 5.],\n",
              "        [5., 5., 5., 5.]])"
            ]
          },
          "metadata": {},
          "execution_count": 89
        }
      ]
    },
    {
      "cell_type": "markdown",
      "source": [
        "<b> - Multiplication</b>\n",
        "\n",
        "Tensor multiplication can be performed using the torch.mul() function or the * operator."
      ],
      "metadata": {
        "id": "MVr6SuM9Eu-u"
      }
    },
    {
      "cell_type": "code",
      "source": [
        "c = torch.mul(a,b)\n",
        "c"
      ],
      "metadata": {
        "colab": {
          "base_uri": "https://localhost:8080/"
        },
        "id": "ljprTCEWEqYt",
        "outputId": "101de8cd-3774-4fcc-c7db-53b71755a4ea"
      },
      "execution_count": 90,
      "outputs": [
        {
          "output_type": "execute_result",
          "data": {
            "text/plain": [
              "tensor([[30., 30., 30., 30.],\n",
              "        [30., 30., 30., 30.]])"
            ]
          },
          "metadata": {},
          "execution_count": 90
        }
      ]
    },
    {
      "cell_type": "code",
      "source": [
        "c = a * b\n",
        "c"
      ],
      "metadata": {
        "colab": {
          "base_uri": "https://localhost:8080/"
        },
        "id": "f2u4a9zRE47k",
        "outputId": "7e831882-acf6-444a-8316-83086808330d"
      },
      "execution_count": 91,
      "outputs": [
        {
          "output_type": "execute_result",
          "data": {
            "text/plain": [
              "tensor([[30., 30., 30., 30.],\n",
              "        [30., 30., 30., 30.]])"
            ]
          },
          "metadata": {},
          "execution_count": 91
        }
      ]
    },
    {
      "cell_type": "markdown",
      "source": [
        "<b> - Division</b>\n",
        "\n",
        "Tensor division can be performed using the torch.div() function or the / operator."
      ],
      "metadata": {
        "id": "O7qSzj27FNyn"
      }
    },
    {
      "cell_type": "code",
      "source": [
        "d = torch.div(c,10)\n",
        "d"
      ],
      "metadata": {
        "colab": {
          "base_uri": "https://localhost:8080/"
        },
        "id": "foIqXvE4E8nV",
        "outputId": "5ca0813b-3a45-466b-93e3-7a4a9483e70e"
      },
      "execution_count": 92,
      "outputs": [
        {
          "output_type": "execute_result",
          "data": {
            "text/plain": [
              "tensor([[3., 3., 3., 3.],\n",
              "        [3., 3., 3., 3.]])"
            ]
          },
          "metadata": {},
          "execution_count": 92
        }
      ]
    },
    {
      "cell_type": "code",
      "source": [
        "d = c/10\n",
        "d"
      ],
      "metadata": {
        "colab": {
          "base_uri": "https://localhost:8080/"
        },
        "id": "xr0_h0VjFVKI",
        "outputId": "01323fda-0454-4ef2-803e-8f0559d87925"
      },
      "execution_count": 93,
      "outputs": [
        {
          "output_type": "execute_result",
          "data": {
            "text/plain": [
              "tensor([[3., 3., 3., 3.],\n",
              "        [3., 3., 3., 3.]])"
            ]
          },
          "metadata": {},
          "execution_count": 93
        }
      ]
    },
    {
      "cell_type": "markdown",
      "source": [
        "### Advanced Tensor Operations\n",
        "\n",
        "Advanced tensor operations include matrix multiplication, transposition, reshaping, and concatenation that basically deals with 2D tensors.\n",
        "\n",
        "<b> - Matrix Multiplication</b>\n",
        "\n",
        "We can perform Matrix multiplication using the torch.mm() function or the @ operator."
      ],
      "metadata": {
        "id": "SSVtqxVhFrFu"
      }
    },
    {
      "cell_type": "code",
      "source": [
        "# create a 2d tensor\n",
        "A = torch.tensor([[1, 2], [3, 4]])\n",
        "B = torch.tensor([[5, 6], [7, 8]])"
      ],
      "metadata": {
        "id": "pVq_uh1ZFYP1"
      },
      "execution_count": 94,
      "outputs": []
    },
    {
      "cell_type": "code",
      "source": [
        "A"
      ],
      "metadata": {
        "colab": {
          "base_uri": "https://localhost:8080/"
        },
        "id": "WCCPBDWpGU0f",
        "outputId": "a8730ba1-d1ce-4604-a36a-c019b2333ba8"
      },
      "execution_count": 95,
      "outputs": [
        {
          "output_type": "execute_result",
          "data": {
            "text/plain": [
              "tensor([[1, 2],\n",
              "        [3, 4]])"
            ]
          },
          "metadata": {},
          "execution_count": 95
        }
      ]
    },
    {
      "cell_type": "code",
      "source": [
        "B"
      ],
      "metadata": {
        "colab": {
          "base_uri": "https://localhost:8080/"
        },
        "id": "WjivEnTKGrSl",
        "outputId": "87d5e561-a681-43b2-f20f-fa15dd302ee8"
      },
      "execution_count": 96,
      "outputs": [
        {
          "output_type": "execute_result",
          "data": {
            "text/plain": [
              "tensor([[5, 6],\n",
              "        [7, 8]])"
            ]
          },
          "metadata": {},
          "execution_count": 96
        }
      ]
    },
    {
      "cell_type": "code",
      "source": [
        "C = torch.mm(A,B)\n",
        "C"
      ],
      "metadata": {
        "colab": {
          "base_uri": "https://localhost:8080/"
        },
        "id": "zuhGrpl9GtBV",
        "outputId": "1910191c-313c-4656-ec18-e6ef0f3f6611"
      },
      "execution_count": 97,
      "outputs": [
        {
          "output_type": "execute_result",
          "data": {
            "text/plain": [
              "tensor([[19, 22],\n",
              "        [43, 50]])"
            ]
          },
          "metadata": {},
          "execution_count": 97
        }
      ]
    },
    {
      "cell_type": "code",
      "source": [
        "C = A @ B\n",
        "C"
      ],
      "metadata": {
        "colab": {
          "base_uri": "https://localhost:8080/"
        },
        "id": "iTkftNSQG5yu",
        "outputId": "628343f4-2064-478b-e426-ed0da823740d"
      },
      "execution_count": 98,
      "outputs": [
        {
          "output_type": "execute_result",
          "data": {
            "text/plain": [
              "tensor([[19, 22],\n",
              "        [43, 50]])"
            ]
          },
          "metadata": {},
          "execution_count": 98
        }
      ]
    },
    {
      "cell_type": "markdown",
      "source": [
        "<b> - Transposition</b>\n",
        "\n",
        "Transposition in tensor operations is the process of flipping the axes of a tensor. It involves exchanging the rows and columns of a 2D tensor or more generally, the axes of a tensor of any dimension.\n",
        "\n",
        "We can perform Transposition using the torch.t() function."
      ],
      "metadata": {
        "id": "Qdij9vS9IYpq"
      }
    },
    {
      "cell_type": "code",
      "source": [
        "tensor = torch.ones(3,4)\n",
        "tensor"
      ],
      "metadata": {
        "colab": {
          "base_uri": "https://localhost:8080/"
        },
        "id": "WJ6_lVgqIPWS",
        "outputId": "36372917-3a44-45c7-eb00-3094e208745b"
      },
      "execution_count": 99,
      "outputs": [
        {
          "output_type": "execute_result",
          "data": {
            "text/plain": [
              "tensor([[1., 1., 1., 1.],\n",
              "        [1., 1., 1., 1.],\n",
              "        [1., 1., 1., 1.]])"
            ]
          },
          "metadata": {},
          "execution_count": 99
        }
      ]
    },
    {
      "cell_type": "code",
      "source": [
        "D = torch.t(tensor)\n",
        "D"
      ],
      "metadata": {
        "colab": {
          "base_uri": "https://localhost:8080/"
        },
        "id": "YTWKWBVlIoSF",
        "outputId": "3dc99628-91c8-4b95-d59a-f6eafac6c74d"
      },
      "execution_count": 100,
      "outputs": [
        {
          "output_type": "execute_result",
          "data": {
            "text/plain": [
              "tensor([[1., 1., 1.],\n",
              "        [1., 1., 1.],\n",
              "        [1., 1., 1.],\n",
              "        [1., 1., 1.]])"
            ]
          },
          "metadata": {},
          "execution_count": 100
        }
      ]
    },
    {
      "cell_type": "markdown",
      "source": [
        "<b> - Reshaping</b>\n",
        "\n",
        "Reshaping in tensor operations is the process of changing the shape or dimensions of a tensor while preserving its underlying data. It involves rearranging the elements of a tensor to fit a new shape, without changing the total number of elements.\n",
        "\n",
        "We can perform Reshaping using the torch.reshape() function or the .view() method."
      ],
      "metadata": {
        "id": "yS_3QMzmI7Ja"
      }
    },
    {
      "cell_type": "code",
      "source": [
        "E = torch.reshape(D, (3,4))\n",
        "E"
      ],
      "metadata": {
        "colab": {
          "base_uri": "https://localhost:8080/"
        },
        "id": "rQkSxgsHIspx",
        "outputId": "ff35e001-3af6-4a52-92d3-9fa69b67465c"
      },
      "execution_count": 101,
      "outputs": [
        {
          "output_type": "execute_result",
          "data": {
            "text/plain": [
              "tensor([[1., 1., 1., 1.],\n",
              "        [1., 1., 1., 1.],\n",
              "        [1., 1., 1., 1.]])"
            ]
          },
          "metadata": {},
          "execution_count": 101
        }
      ]
    },
    {
      "cell_type": "code",
      "source": [
        "E = A.view(1, 4)\n",
        "E"
      ],
      "metadata": {
        "colab": {
          "base_uri": "https://localhost:8080/"
        },
        "id": "Phqd65EsJU9p",
        "outputId": "783df4b2-9b56-43c7-843f-a96d3bc2eca8"
      },
      "execution_count": 102,
      "outputs": [
        {
          "output_type": "execute_result",
          "data": {
            "text/plain": [
              "tensor([[1, 2, 3, 4]])"
            ]
          },
          "metadata": {},
          "execution_count": 102
        }
      ]
    },
    {
      "cell_type": "markdown",
      "source": [
        "<b> - Tensor to NumPy array</b>"
      ],
      "metadata": {
        "id": "pUOWQAWmKfZR"
      }
    },
    {
      "cell_type": "code",
      "source": [
        "t = torch.ones(5)\n",
        "print(f\"t: {t}\")\n",
        "n = t.numpy()\n",
        "print(f\"n: {n}\")"
      ],
      "metadata": {
        "colab": {
          "base_uri": "https://localhost:8080/"
        },
        "id": "Geb2WC_VJjKm",
        "outputId": "022ce1d8-b05a-41c9-b05b-9bc032e5777c"
      },
      "execution_count": 103,
      "outputs": [
        {
          "output_type": "stream",
          "name": "stdout",
          "text": [
            "t: tensor([1., 1., 1., 1., 1.])\n",
            "n: [1. 1. 1. 1. 1.]\n"
          ]
        }
      ]
    },
    {
      "cell_type": "markdown",
      "source": [
        "A change in the tensor reflects in the NumPy array."
      ],
      "metadata": {
        "id": "RLjQCTU3KoHP"
      }
    },
    {
      "cell_type": "code",
      "source": [
        "t.add_(1)\n",
        "print(f\"t: {t}\")\n",
        "print(f\"n: {n}\")"
      ],
      "metadata": {
        "colab": {
          "base_uri": "https://localhost:8080/"
        },
        "id": "-aTvwsv-KjD_",
        "outputId": "e0c34609-5b16-4ab1-9479-1546fab16fda"
      },
      "execution_count": 104,
      "outputs": [
        {
          "output_type": "stream",
          "name": "stdout",
          "text": [
            "t: tensor([2., 2., 2., 2., 2.])\n",
            "n: [2. 2. 2. 2. 2.]\n"
          ]
        }
      ]
    },
    {
      "cell_type": "code",
      "source": [
        "# Normal Distribution\n",
        "\n",
        "X = torch.rand(size=(3,4)).normal_(mean=0, std=1)\n",
        "X"
      ],
      "metadata": {
        "colab": {
          "base_uri": "https://localhost:8080/"
        },
        "id": "916cFdlhAlW9",
        "outputId": "6a5aa1ed-e930-4e49-dd2b-84d036848637"
      },
      "execution_count": 105,
      "outputs": [
        {
          "output_type": "execute_result",
          "data": {
            "text/plain": [
              "tensor([[-0.3057,  0.1206,  0.0470, -0.5111],\n",
              "        [-0.3934, -1.2435,  0.2780, -0.4756],\n",
              "        [-1.8124, -1.1113,  1.6001,  0.1390]])"
            ]
          },
          "metadata": {},
          "execution_count": 105
        }
      ]
    },
    {
      "cell_type": "code",
      "source": [
        "# Uniform Distribution\n",
        "\n",
        "U = torch.rand(size=(3,4)).uniform_(4,7)\n",
        "U"
      ],
      "metadata": {
        "id": "nvbiQzBDKqY6",
        "colab": {
          "base_uri": "https://localhost:8080/"
        },
        "outputId": "046bbfca-502d-43df-cb99-a91e4349e21a"
      },
      "execution_count": 106,
      "outputs": [
        {
          "output_type": "execute_result",
          "data": {
            "text/plain": [
              "tensor([[5.9002, 5.7010, 4.8736, 6.4109],\n",
              "        [6.5800, 5.7002, 5.8851, 4.6181],\n",
              "        [5.3523, 6.7528, 4.7439, 4.2890]])"
            ]
          },
          "metadata": {},
          "execution_count": 106
        }
      ]
    },
    {
      "cell_type": "code",
      "source": [
        "# Diagonal Matrix\n",
        "\n",
        "DM = torch.diag(torch.ones(8))\n",
        "DM"
      ],
      "metadata": {
        "colab": {
          "base_uri": "https://localhost:8080/"
        },
        "id": "Vk9XOSjUBJ8u",
        "outputId": "8bf497a9-3e72-4c6e-b491-84b36d3501a1"
      },
      "execution_count": 107,
      "outputs": [
        {
          "output_type": "execute_result",
          "data": {
            "text/plain": [
              "tensor([[1., 0., 0., 0., 0., 0., 0., 0.],\n",
              "        [0., 1., 0., 0., 0., 0., 0., 0.],\n",
              "        [0., 0., 1., 0., 0., 0., 0., 0.],\n",
              "        [0., 0., 0., 1., 0., 0., 0., 0.],\n",
              "        [0., 0., 0., 0., 1., 0., 0., 0.],\n",
              "        [0., 0., 0., 0., 0., 1., 0., 0.],\n",
              "        [0., 0., 0., 0., 0., 0., 1., 0.],\n",
              "        [0., 0., 0., 0., 0., 0., 0., 1.]])"
            ]
          },
          "metadata": {},
          "execution_count": 107
        }
      ]
    },
    {
      "cell_type": "code",
      "source": [
        "DM.shape"
      ],
      "metadata": {
        "colab": {
          "base_uri": "https://localhost:8080/"
        },
        "id": "EWSQBliMBahb",
        "outputId": "bcdb5f4a-b031-497e-8fe2-dd15f8591860"
      },
      "execution_count": 108,
      "outputs": [
        {
          "output_type": "execute_result",
          "data": {
            "text/plain": [
              "torch.Size([8, 8])"
            ]
          },
          "metadata": {},
          "execution_count": 108
        }
      ]
    },
    {
      "cell_type": "code",
      "source": [
        "DM = torch.diag(7*torch.ones(8))\n",
        "DM"
      ],
      "metadata": {
        "colab": {
          "base_uri": "https://localhost:8080/"
        },
        "id": "4yct95rtBf64",
        "outputId": "afb6fb73-9858-4dd5-f820-3681b385bd2c"
      },
      "execution_count": 109,
      "outputs": [
        {
          "output_type": "execute_result",
          "data": {
            "text/plain": [
              "tensor([[7., 0., 0., 0., 0., 0., 0., 0.],\n",
              "        [0., 7., 0., 0., 0., 0., 0., 0.],\n",
              "        [0., 0., 7., 0., 0., 0., 0., 0.],\n",
              "        [0., 0., 0., 7., 0., 0., 0., 0.],\n",
              "        [0., 0., 0., 0., 7., 0., 0., 0.],\n",
              "        [0., 0., 0., 0., 0., 7., 0., 0.],\n",
              "        [0., 0., 0., 0., 0., 0., 7., 0.],\n",
              "        [0., 0., 0., 0., 0., 0., 0., 7.]])"
            ]
          },
          "metadata": {},
          "execution_count": 109
        }
      ]
    },
    {
      "cell_type": "code",
      "source": [
        "# Sum of a matrix\n",
        "torch.sum(DM)"
      ],
      "metadata": {
        "colab": {
          "base_uri": "https://localhost:8080/"
        },
        "id": "aKweBj1EMo3B",
        "outputId": "378a2d0d-4a29-4981-b0d2-d7432a5c3eee"
      },
      "execution_count": 110,
      "outputs": [
        {
          "output_type": "execute_result",
          "data": {
            "text/plain": [
              "tensor(56.)"
            ]
          },
          "metadata": {},
          "execution_count": 110
        }
      ]
    },
    {
      "cell_type": "code",
      "source": [
        "# Maximum value in the matrix\n",
        "torch.max(U)"
      ],
      "metadata": {
        "colab": {
          "base_uri": "https://localhost:8080/"
        },
        "id": "QjO1yXstMtpF",
        "outputId": "04f2a39b-2932-4b0b-d92b-b54e9a1644b5"
      },
      "execution_count": 111,
      "outputs": [
        {
          "output_type": "execute_result",
          "data": {
            "text/plain": [
              "tensor(6.7528)"
            ]
          },
          "metadata": {},
          "execution_count": 111
        }
      ]
    },
    {
      "cell_type": "code",
      "source": [
        "# Minimum value in the matrix\n",
        "torch.min(U)"
      ],
      "metadata": {
        "colab": {
          "base_uri": "https://localhost:8080/"
        },
        "id": "qvRKdxV6NCP8",
        "outputId": "71b8d679-30b0-4981-9510-c678b9633042"
      },
      "execution_count": 112,
      "outputs": [
        {
          "output_type": "execute_result",
          "data": {
            "text/plain": [
              "tensor(4.2890)"
            ]
          },
          "metadata": {},
          "execution_count": 112
        }
      ]
    },
    {
      "cell_type": "code",
      "source": [
        "U"
      ],
      "metadata": {
        "colab": {
          "base_uri": "https://localhost:8080/"
        },
        "id": "L1UQlstKNdyc",
        "outputId": "a04551ad-a4ea-49dd-fc3f-4c96d63bf101"
      },
      "execution_count": 113,
      "outputs": [
        {
          "output_type": "execute_result",
          "data": {
            "text/plain": [
              "tensor([[5.9002, 5.7010, 4.8736, 6.4109],\n",
              "        [6.5800, 5.7002, 5.8851, 4.6181],\n",
              "        [5.3523, 6.7528, 4.7439, 4.2890]])"
            ]
          },
          "metadata": {},
          "execution_count": 113
        }
      ]
    },
    {
      "cell_type": "code",
      "source": [
        "# Column-wise and Row-wise minimum and maximum value in the matrix\n",
        "\n",
        "print(f\"Column-wise maximum value:\\n {torch.max(U, dim=0)}\") #column\n",
        "print()\n",
        "print(f\"Column-wise minimum value:\\n {torch.min(U, dim=0)}\")\n",
        "print()\n",
        "print(f\"Row-wise maximum value:\\n {torch.max(U, dim=1)}\") # Row\n",
        "print()\n",
        "print(f\"Row-wise maximum value:\\n {torch.min(U, dim=1)}\")\n",
        "print()"
      ],
      "metadata": {
        "colab": {
          "base_uri": "https://localhost:8080/"
        },
        "id": "aDaRL40fNM68",
        "outputId": "295e67f3-f905-42b7-ba53-1bf4ecb2a897"
      },
      "execution_count": 114,
      "outputs": [
        {
          "output_type": "stream",
          "name": "stdout",
          "text": [
            "Column-wise maximum value:\n",
            " torch.return_types.max(\n",
            "values=tensor([6.5800, 6.7528, 5.8851, 6.4109]),\n",
            "indices=tensor([1, 2, 1, 0]))\n",
            "\n",
            "Column-wise minimum value:\n",
            " torch.return_types.min(\n",
            "values=tensor([5.3523, 5.7002, 4.7439, 4.2890]),\n",
            "indices=tensor([2, 1, 2, 2]))\n",
            "\n",
            "Row-wise maximum value:\n",
            " torch.return_types.max(\n",
            "values=tensor([6.4109, 6.5800, 6.7528]),\n",
            "indices=tensor([3, 0, 1]))\n",
            "\n",
            "Row-wise maximum value:\n",
            " torch.return_types.min(\n",
            "values=tensor([4.8736, 4.6181, 4.2890]),\n",
            "indices=tensor([2, 3, 3]))\n",
            "\n"
          ]
        }
      ]
    },
    {
      "cell_type": "code",
      "source": [
        "# indices of the max and min value\n",
        "print(\"Indices of max value:\\n torch.argmax(U)\")\n",
        "print()\n",
        "print(\"Indices of min value:\\n torch.argmin(U)\")"
      ],
      "metadata": {
        "colab": {
          "base_uri": "https://localhost:8080/"
        },
        "id": "6OxmA4g8Nhsi",
        "outputId": "5b80283a-74c1-4bbe-8a97-fa859f752254"
      },
      "execution_count": 115,
      "outputs": [
        {
          "output_type": "stream",
          "name": "stdout",
          "text": [
            "Indices of max value:\n",
            " torch.argmax(U)\n",
            "\n",
            "Indices of min value:\n",
            " torch.argmin(U)\n"
          ]
        }
      ]
    },
    {
      "cell_type": "code",
      "source": [
        "# average value\n",
        "\n",
        "print(f\"Average of Tensor: {torch.mean(U)}\")\n",
        "print()\n",
        "print(f\"Average Column-wise: {torch.mean(U, dim=0)}\")\n",
        "print()\n",
        "print(f\"Average Row-wise: {torch.mean(U, dim=1)}\")"
      ],
      "metadata": {
        "colab": {
          "base_uri": "https://localhost:8080/"
        },
        "id": "nEhcgHcxPbyh",
        "outputId": "c139eebc-bda4-44ee-f80a-985498e777aa"
      },
      "execution_count": 116,
      "outputs": [
        {
          "output_type": "stream",
          "name": "stdout",
          "text": [
            "Average of Tensor: 5.567246913909912\n",
            "\n",
            "Average Column-wise: tensor([5.9442, 6.0513, 5.1675, 5.1060])\n",
            "\n",
            "Average Row-wise: tensor([5.7214, 5.6958, 5.2845])\n"
          ]
        }
      ]
    },
    {
      "cell_type": "code",
      "source": [
        "# compare tensors\n",
        "\n",
        "C = torch.rand(3,4)\n",
        "C"
      ],
      "metadata": {
        "colab": {
          "base_uri": "https://localhost:8080/"
        },
        "id": "1beK4wBKQKa3",
        "outputId": "109cb801-f444-4db4-f430-aaf256f68164"
      },
      "execution_count": 117,
      "outputs": [
        {
          "output_type": "execute_result",
          "data": {
            "text/plain": [
              "tensor([[0.7067, 0.9381, 0.0189, 0.1747],\n",
              "        [0.1682, 0.0473, 0.5458, 0.0316],\n",
              "        [0.6660, 0.7857, 0.9581, 0.2023]])"
            ]
          },
          "metadata": {},
          "execution_count": 117
        }
      ]
    },
    {
      "cell_type": "code",
      "source": [
        "torch.eq(U,C)"
      ],
      "metadata": {
        "colab": {
          "base_uri": "https://localhost:8080/"
        },
        "id": "DCFFJ3EzSwZR",
        "outputId": "a3a3321c-aae4-416f-c790-d443896965b9"
      },
      "execution_count": 118,
      "outputs": [
        {
          "output_type": "execute_result",
          "data": {
            "text/plain": [
              "tensor([[False, False, False, False],\n",
              "        [False, False, False, False],\n",
              "        [False, False, False, False]])"
            ]
          },
          "metadata": {},
          "execution_count": 118
        }
      ]
    },
    {
      "cell_type": "code",
      "source": [
        "torch.eq(C,C)"
      ],
      "metadata": {
        "colab": {
          "base_uri": "https://localhost:8080/"
        },
        "id": "tkz2Ab5uS0v0",
        "outputId": "56b7883d-2755-436d-a59c-009cee578c6d"
      },
      "execution_count": 119,
      "outputs": [
        {
          "output_type": "execute_result",
          "data": {
            "text/plain": [
              "tensor([[True, True, True, True],\n",
              "        [True, True, True, True],\n",
              "        [True, True, True, True]])"
            ]
          },
          "metadata": {},
          "execution_count": 119
        }
      ]
    },
    {
      "cell_type": "code",
      "source": [],
      "metadata": {
        "id": "0kjmVFM5S3zE"
      },
      "execution_count": null,
      "outputs": []
    }
  ]
}