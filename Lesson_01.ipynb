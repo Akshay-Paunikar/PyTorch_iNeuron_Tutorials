{
  "nbformat": 4,
  "nbformat_minor": 0,
  "metadata": {
    "colab": {
      "provenance": [],
      "gpuType": "T4"
    },
    "kernelspec": {
      "name": "python3",
      "display_name": "Python 3"
    },
    "language_info": {
      "name": "python"
    },
    "accelerator": "GPU"
  },
  "cells": [
    {
      "cell_type": "markdown",
      "source": [
        "### Tensors\n",
        "\n",
        "Tensors are a specialized data structure that are very similar to arrays and matrices. In PyTorch, we use tensors to encode the inputs and outputs of a model, as well as the model’s parameters.\n",
        "\n",
        "Tensors are similar to NumPy’s ndarrays, except that tensors can run on GPUs or other hardware accelerators. In fact, tensors and NumPy arrays can often share the same underlying memory, eliminating the need to copy data. Tensors are also optimized for automatic differentiation."
      ],
      "metadata": {
        "id": "TggWWMcb4iUD"
      }
    },
    {
      "cell_type": "code",
      "source": [
        "import torch\n",
        "import numpy as np"
      ],
      "metadata": {
        "id": "gFP5krT35CFB"
      },
      "execution_count": 1,
      "outputs": []
    },
    {
      "cell_type": "markdown",
      "source": [
        "### Initializing a Tensor\n",
        "\n",
        "Tensors can be initialized in various ways. Take a look at the following examples:\n",
        "\n",
        "<b> - Directly from data</b>\n",
        "\n",
        "Tensors can be created directly from data. The data type is automatically inferred."
      ],
      "metadata": {
        "id": "58WCe9Jx5S9X"
      }
    },
    {
      "cell_type": "code",
      "source": [
        "data = [[1,2], [3,4]]\n",
        "x = torch.tensor(data)"
      ],
      "metadata": {
        "id": "L-9WWXtn5GEZ"
      },
      "execution_count": 2,
      "outputs": []
    },
    {
      "cell_type": "code",
      "source": [
        "x"
      ],
      "metadata": {
        "colab": {
          "base_uri": "https://localhost:8080/"
        },
        "id": "qC7hJ-Uk5nyV",
        "outputId": "34aaf91f-504f-452a-e57a-19c8dce377f4"
      },
      "execution_count": 3,
      "outputs": [
        {
          "output_type": "execute_result",
          "data": {
            "text/plain": [
              "tensor([[1, 2],\n",
              "        [3, 4]])"
            ]
          },
          "metadata": {},
          "execution_count": 3
        }
      ]
    },
    {
      "cell_type": "markdown",
      "source": [
        "<b>- From a NumPy array</b>\n",
        "\n",
        "Tensors can be created from NumPy arrays"
      ],
      "metadata": {
        "id": "90Y-Oj_a5tJj"
      }
    },
    {
      "cell_type": "code",
      "source": [
        "np_array = np.array(data)\n",
        "x_np = torch.from_numpy(np_array)"
      ],
      "metadata": {
        "id": "JRA3k2gE5oyG"
      },
      "execution_count": 4,
      "outputs": []
    },
    {
      "cell_type": "code",
      "source": [
        "x_np"
      ],
      "metadata": {
        "colab": {
          "base_uri": "https://localhost:8080/"
        },
        "id": "3H0vhZM96B1O",
        "outputId": "98f7eff5-8c04-4852-feb9-b86c0a7118c9"
      },
      "execution_count": 5,
      "outputs": [
        {
          "output_type": "execute_result",
          "data": {
            "text/plain": [
              "tensor([[1, 2],\n",
              "        [3, 4]])"
            ]
          },
          "metadata": {},
          "execution_count": 5
        }
      ]
    },
    {
      "cell_type": "markdown",
      "source": [
        "<b>- From another tensor:</b>\n",
        "\n",
        "The new tensor retains the properties (shape, datatype) of the argument tensor, unless explicitly overridden."
      ],
      "metadata": {
        "id": "aVCDqkpp6Tp6"
      }
    },
    {
      "cell_type": "code",
      "source": [
        "x_ones = torch.ones_like(x) # retains the properties of x\n",
        "print(f\"Ones Tensor:\\n\", {x_ones})"
      ],
      "metadata": {
        "colab": {
          "base_uri": "https://localhost:8080/"
        },
        "id": "UBznDFlf6DUF",
        "outputId": "5150925d-5695-4244-b026-1667253ac4c8"
      },
      "execution_count": 6,
      "outputs": [
        {
          "output_type": "stream",
          "name": "stdout",
          "text": [
            "Ones Tensor:\n",
            " {tensor([[1, 1],\n",
            "        [1, 1]])}\n"
          ]
        }
      ]
    },
    {
      "cell_type": "code",
      "source": [
        "x_zeroes = torch.zeros_like(x) # retains the properties of x\n",
        "print(f\"Zeroes Tensor:\\n\", {x_zeroes})"
      ],
      "metadata": {
        "colab": {
          "base_uri": "https://localhost:8080/"
        },
        "id": "vdkqx1aE7S3V",
        "outputId": "3771dd2f-f554-40d8-a297-84f7780897dc"
      },
      "execution_count": 8,
      "outputs": [
        {
          "output_type": "stream",
          "name": "stdout",
          "text": [
            "Zeroes Tensor:\n",
            " {tensor([[0, 0],\n",
            "        [0, 0]])}\n"
          ]
        }
      ]
    },
    {
      "cell_type": "code",
      "source": [
        "x_rand = torch.rand_like(x, dtype=torch.float) # overrides the datatype of x_data\n",
        "print(f\"Random Tensor:\\n\", {x_rand})"
      ],
      "metadata": {
        "colab": {
          "base_uri": "https://localhost:8080/"
        },
        "id": "7-MLlXTF6vkR",
        "outputId": "8b8bf02e-d353-4987-afc0-643481899660"
      },
      "execution_count": 7,
      "outputs": [
        {
          "output_type": "stream",
          "name": "stdout",
          "text": [
            "Random Tensor:\n",
            " {tensor([[0.0157, 0.4642],\n",
            "        [0.5470, 0.3215]])}\n"
          ]
        }
      ]
    },
    {
      "cell_type": "markdown",
      "source": [
        "<b>- With random or constant values:</b>\n",
        "\n",
        "shape is a tuple of tensor dimensions. In the functions below, it determines the dimensionality of the output tensor."
      ],
      "metadata": {
        "id": "VGnBxzE37uD8"
      }
    },
    {
      "cell_type": "code",
      "source": [
        "shape = (2,3,)\n",
        "rand_tensor = torch.rand(shape)\n",
        "ones_tensor = torch.ones(shape)\n",
        "zeroes_tensor = torch.zeros(shape)\n",
        "\n",
        "print(f\"Random Tensor:\\n\", {rand_tensor})\n",
        "print(f\"Ones Tensor:\\n\", {ones_tensor})\n",
        "print(f\"Zeroes Tensor:\\n\", {zeroes_tensor})"
      ],
      "metadata": {
        "colab": {
          "base_uri": "https://localhost:8080/"
        },
        "id": "06Pvg0z67Mft",
        "outputId": "ae1703b5-ec11-49da-8a94-1db43ac20e6f"
      },
      "execution_count": 9,
      "outputs": [
        {
          "output_type": "stream",
          "name": "stdout",
          "text": [
            "Random Tensor:\n",
            " {tensor([[0.7841, 0.6119, 0.1365],\n",
            "        [0.2103, 0.1686, 0.2095]])}\n",
            "Ones Tensor:\n",
            " {tensor([[1., 1., 1.],\n",
            "        [1., 1., 1.]])}\n",
            "Zeroes Tensor:\n",
            " {tensor([[0., 0., 0.],\n",
            "        [0., 0., 0.]])}\n"
          ]
        }
      ]
    },
    {
      "cell_type": "code",
      "source": [],
      "metadata": {
        "id": "lVErEfWK8XUH"
      },
      "execution_count": null,
      "outputs": []
    }
  ]
}