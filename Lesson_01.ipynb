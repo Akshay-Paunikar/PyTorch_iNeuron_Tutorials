{
  "nbformat": 4,
  "nbformat_minor": 0,
  "metadata": {
    "colab": {
      "provenance": [],
      "gpuType": "T4"
    },
    "kernelspec": {
      "name": "python3",
      "display_name": "Python 3"
    },
    "language_info": {
      "name": "python"
    },
    "accelerator": "GPU"
  },
  "cells": [
    {
      "cell_type": "markdown",
      "source": [
        "### Tensors\n",
        "\n",
        "Tensors are a specialized data structure that are very similar to arrays and matrices. In PyTorch, we use tensors to encode the inputs and outputs of a model, as well as the model’s parameters.\n",
        "\n",
        "Tensors are similar to NumPy’s ndarrays, except that tensors can run on GPUs or other hardware accelerators. In fact, tensors and NumPy arrays can often share the same underlying memory, eliminating the need to copy data. Tensors are also optimized for automatic differentiation."
      ],
      "metadata": {
        "id": "TggWWMcb4iUD"
      }
    },
    {
      "cell_type": "code",
      "source": [
        "import torch\n",
        "import numpy as np"
      ],
      "metadata": {
        "id": "gFP5krT35CFB"
      },
      "execution_count": 3,
      "outputs": []
    },
    {
      "cell_type": "markdown",
      "source": [
        "### Initializing a Tensor\n",
        "\n",
        "Tensors can be initialized in various ways. Take a look at the following examples:\n",
        "\n",
        "<b> - Directly from data</b>\n",
        "\n",
        "Tensors can be created directly from data. The data type is automatically inferred."
      ],
      "metadata": {
        "id": "58WCe9Jx5S9X"
      }
    },
    {
      "cell_type": "code",
      "source": [
        "data = [[1,2], [3,4]]\n",
        "x = torch.tensor(data)"
      ],
      "metadata": {
        "id": "L-9WWXtn5GEZ"
      },
      "execution_count": 4,
      "outputs": []
    },
    {
      "cell_type": "code",
      "source": [
        "x"
      ],
      "metadata": {
        "colab": {
          "base_uri": "https://localhost:8080/"
        },
        "id": "qC7hJ-Uk5nyV",
        "outputId": "4ca61eec-0a87-4490-cc60-1ba8873b5906"
      },
      "execution_count": 5,
      "outputs": [
        {
          "output_type": "execute_result",
          "data": {
            "text/plain": [
              "tensor([[1, 2],\n",
              "        [3, 4]])"
            ]
          },
          "metadata": {},
          "execution_count": 5
        }
      ]
    },
    {
      "cell_type": "markdown",
      "source": [
        "<b>- From a NumPy array</b>\n",
        "\n",
        "Tensors can be created from NumPy arrays"
      ],
      "metadata": {
        "id": "90Y-Oj_a5tJj"
      }
    },
    {
      "cell_type": "code",
      "source": [
        "np_array = np.array(data)\n",
        "x_np = torch.from_numpy(np_array)"
      ],
      "metadata": {
        "id": "JRA3k2gE5oyG"
      },
      "execution_count": 6,
      "outputs": []
    },
    {
      "cell_type": "code",
      "source": [
        "x_np"
      ],
      "metadata": {
        "colab": {
          "base_uri": "https://localhost:8080/"
        },
        "id": "3H0vhZM96B1O",
        "outputId": "209eecf9-381a-49b7-f08f-3e30533cdab9"
      },
      "execution_count": 7,
      "outputs": [
        {
          "output_type": "execute_result",
          "data": {
            "text/plain": [
              "tensor([[1, 2],\n",
              "        [3, 4]])"
            ]
          },
          "metadata": {},
          "execution_count": 7
        }
      ]
    },
    {
      "cell_type": "markdown",
      "source": [
        "<b>- From another tensor:</b>\n",
        "\n",
        "The new tensor retains the properties (shape, datatype) of the argument tensor, unless explicitly overridden."
      ],
      "metadata": {
        "id": "aVCDqkpp6Tp6"
      }
    },
    {
      "cell_type": "code",
      "source": [
        "x_ones = torch.ones_like(x) # retains the properties of x\n",
        "print(f\"Ones Tensor:\\n\", {x_ones})"
      ],
      "metadata": {
        "colab": {
          "base_uri": "https://localhost:8080/"
        },
        "id": "UBznDFlf6DUF",
        "outputId": "b5210df6-7b98-459c-ccf4-564057917f2e"
      },
      "execution_count": 8,
      "outputs": [
        {
          "output_type": "stream",
          "name": "stdout",
          "text": [
            "Ones Tensor:\n",
            " {tensor([[1, 1],\n",
            "        [1, 1]])}\n"
          ]
        }
      ]
    },
    {
      "cell_type": "code",
      "source": [
        "x_zeroes = torch.zeros_like(x) # retains the properties of x\n",
        "print(f\"Zeroes Tensor:\\n\", {x_zeroes})"
      ],
      "metadata": {
        "colab": {
          "base_uri": "https://localhost:8080/"
        },
        "id": "vdkqx1aE7S3V",
        "outputId": "14b51984-7abb-4d54-cc89-47f21d6f804e"
      },
      "execution_count": 9,
      "outputs": [
        {
          "output_type": "stream",
          "name": "stdout",
          "text": [
            "Zeroes Tensor:\n",
            " {tensor([[0, 0],\n",
            "        [0, 0]])}\n"
          ]
        }
      ]
    },
    {
      "cell_type": "code",
      "source": [
        "x_rand = torch.rand_like(x, dtype=torch.float) # overrides the datatype of x_data\n",
        "print(f\"Random Tensor:\\n\", {x_rand})"
      ],
      "metadata": {
        "colab": {
          "base_uri": "https://localhost:8080/"
        },
        "id": "7-MLlXTF6vkR",
        "outputId": "2b82d6b8-1179-4088-db3c-1fd4c853f6ca"
      },
      "execution_count": 10,
      "outputs": [
        {
          "output_type": "stream",
          "name": "stdout",
          "text": [
            "Random Tensor:\n",
            " {tensor([[0.8794, 0.6617],\n",
            "        [0.3289, 0.3907]])}\n"
          ]
        }
      ]
    },
    {
      "cell_type": "markdown",
      "source": [
        "<b>- With random or constant values:</b>\n",
        "\n",
        "shape is a tuple of tensor dimensions. In the functions below, it determines the dimensionality of the output tensor."
      ],
      "metadata": {
        "id": "VGnBxzE37uD8"
      }
    },
    {
      "cell_type": "code",
      "source": [
        "shape = (2,3,)\n",
        "rand_tensor = torch.rand(shape)\n",
        "ones_tensor = torch.ones(shape)\n",
        "zeroes_tensor = torch.zeros(shape)\n",
        "\n",
        "print(f\"Random Tensor:\\n\", {rand_tensor})\n",
        "print(f\"Ones Tensor:\\n\", {ones_tensor})\n",
        "print(f\"Zeroes Tensor:\\n\", {zeroes_tensor})"
      ],
      "metadata": {
        "colab": {
          "base_uri": "https://localhost:8080/"
        },
        "id": "06Pvg0z67Mft",
        "outputId": "a5e902d3-307a-4afa-8b76-38dd8e09a1e8"
      },
      "execution_count": 11,
      "outputs": [
        {
          "output_type": "stream",
          "name": "stdout",
          "text": [
            "Random Tensor:\n",
            " {tensor([[0.0221, 0.8269, 0.2179],\n",
            "        [0.1134, 0.9804, 0.4494]])}\n",
            "Ones Tensor:\n",
            " {tensor([[1., 1., 1.],\n",
            "        [1., 1., 1.]])}\n",
            "Zeroes Tensor:\n",
            " {tensor([[0., 0., 0.],\n",
            "        [0., 0., 0.]])}\n"
          ]
        }
      ]
    },
    {
      "cell_type": "markdown",
      "source": [
        "### Attributes of a Tensor\n",
        "\n",
        "Tensor attributes describe their shape, datatype, and the device on which they are stored."
      ],
      "metadata": {
        "id": "ntpIfhNt86bX"
      }
    },
    {
      "cell_type": "code",
      "source": [
        "tensor = torch.rand(3,4)\n",
        "\n",
        "print(f\"Shape of the Tensor:\", {tensor.shape})\n",
        "print(f\"Datatype of the Tensor:\", {tensor.dtype})\n",
        "print(f\"Device Tensor is stored on:\", {tensor.device})"
      ],
      "metadata": {
        "colab": {
          "base_uri": "https://localhost:8080/"
        },
        "id": "lVErEfWK8XUH",
        "outputId": "55584d54-0ecf-4798-9192-715968425597"
      },
      "execution_count": 13,
      "outputs": [
        {
          "output_type": "stream",
          "name": "stdout",
          "text": [
            "Shape of the Tensor: {torch.Size([3, 4])}\n",
            "Datatype of the Tensor: {torch.float32}\n",
            "Device Tensor is stored on: {device(type='cpu')}\n"
          ]
        }
      ]
    },
    {
      "cell_type": "code",
      "source": [],
      "metadata": {
        "id": "vpg0jjSz9W_j"
      },
      "execution_count": 12,
      "outputs": []
    }
  ]
}